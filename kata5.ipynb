{
 "cells": [
  {
   "cell_type": "markdown",
   "metadata": {},
   "source": [
    "# UTILIZANDO OPERADORES"
   ]
  },
  {
   "cell_type": "code",
   "execution_count": 2,
   "metadata": {},
   "outputs": [
    {
     "name": "stdout",
     "output_type": "stream",
     "text": [
      "La distancia es: -44554020638\n"
     ]
    }
   ],
   "source": [
    "# Calcular distancia \n",
    "\n",
    "mercurio = 45173839829\n",
    "venus = 619819191\n",
    "\n",
    "distancia = venus - mercurio\n",
    "print(\"La distancia es: \" + str(distancia))"
   ]
  },
  {
   "cell_type": "code",
   "execution_count": 4,
   "metadata": {},
   "outputs": [
    {
     "name": "stdout",
     "output_type": "stream",
     "text": [
      "Km: 30\n",
      "Millas: 18.63\n"
     ]
    }
   ],
   "source": [
    "# Convertir cadenas en números\n",
    "\n",
    "mercurio = int(input(\"¿Qué distancia hay del sol a Mercurio? \"))\n",
    "venus = int(input(\"¿Qué distancia hay del sol a Venus? \"))\n",
    "\n",
    "distancia = venus - mercurio\n",
    "print(\"Km: \" + str(distancia))\n",
    "\n",
    "distanciaM = distancia * 0.621\n",
    "print(\"Millas: \" + str(abs(distanciaM)))"
   ]
  }
 ],
 "metadata": {
  "interpreter": {
   "hash": "8f6dd7d2b84a396229ac49ed2b07a9c0646c507529418015a0e1ddf2fdc18cc1"
  },
  "kernelspec": {
   "display_name": "Python 3.10.2 64-bit",
   "language": "python",
   "name": "python3"
  },
  "language_info": {
   "codemirror_mode": {
    "name": "ipython",
    "version": 3
   },
   "file_extension": ".py",
   "mimetype": "text/x-python",
   "name": "python",
   "nbconvert_exporter": "python",
   "pygments_lexer": "ipython3",
   "version": "3.10.2"
  },
  "orig_nbformat": 4
 },
 "nbformat": 4,
 "nbformat_minor": 2
}
