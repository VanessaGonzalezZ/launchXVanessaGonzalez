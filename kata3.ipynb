{
 "cells": [
  {
   "cell_type": "markdown",
   "metadata": {},
   "source": [
    "# CONDICIONAL IF"
   ]
  },
  {
   "cell_type": "code",
   "execution_count": 2,
   "metadata": {},
   "outputs": [
    {
     "name": "stdout",
     "output_type": "stream",
     "text": [
      "¡¡ADVERTENCIA!! NOS VAMOS A EXTINGUIR\n"
     ]
    }
   ],
   "source": [
    "velocidad = 49\n",
    "\n",
    "if velocidad > 25:\n",
    "    print(\"¡¡ADVERTENCIA!! NOS VAMOS A EXTINGUIR\")\n",
    "else:\n",
    "    print(\"Todo naisu\")"
   ]
  },
  {
   "cell_type": "code",
   "execution_count": 4,
   "metadata": {},
   "outputs": [
    {
     "name": "stdout",
     "output_type": "stream",
     "text": [
      "Nada que ver aquí gente\n"
     ]
    }
   ],
   "source": [
    "velocidad = 19\n",
    "\n",
    "if velocidad > 20:\n",
    "    print(\"Mira al cielo para comprobar si hay rayos de luz de asteroide\")\n",
    "elif velocidad >= 20:\n",
    "    print(\"Hay luces en el cielo! Mira arriba\")\n",
    "else:\n",
    "    print(\"Nada que ver aquí gente\")"
   ]
  },
  {
   "cell_type": "code",
   "execution_count": 8,
   "metadata": {},
   "outputs": [
    {
     "name": "stdout",
     "output_type": "stream",
     "text": [
      "No mire al cielo, podría aburrirse\n"
     ]
    }
   ],
   "source": [
    "velocidad = 27\n",
    "tamaño = 19\n",
    "\n",
    "if velocidad > 25 | tamaño > 25:\n",
    "    print(\"Advertencia, el asteroide se acerca a velocidades peligrosas hacia la tierra\")\n",
    "elif velocidad == 20:\n",
    "    print(\"Luces en el cielo\")\n",
    "elif tamaño < 25:\n",
    "    print(\"No mire al cielo, podría aburrirse\")\n",
    "elif tamaño < 25 or tamaño > 1000:\n",
    "    print(\"No mire al cielo, podría aburrirse\")\n"
   ]
  }
 ],
 "metadata": {
  "interpreter": {
   "hash": "8f6dd7d2b84a396229ac49ed2b07a9c0646c507529418015a0e1ddf2fdc18cc1"
  },
  "kernelspec": {
   "display_name": "Python 3.10.2 64-bit",
   "language": "python",
   "name": "python3"
  },
  "language_info": {
   "codemirror_mode": {
    "name": "ipython",
    "version": 3
   },
   "file_extension": ".py",
   "mimetype": "text/x-python",
   "name": "python",
   "nbconvert_exporter": "python",
   "pygments_lexer": "ipython3",
   "version": "3.10.2"
  },
  "orig_nbformat": 4
 },
 "nbformat": 4,
 "nbformat_minor": 2
}
